{
 "cells": [
  {
   "cell_type": "markdown",
   "metadata": {},
   "source": [
    "We will work with data on motor vehicle collisions released by New York City and published on the [NYC OpenData website](https://data.cityofnewyork.us/Public-Safety/NYPD-Motor-Vehicle-Collisions/h9gi-nx95). There is data on over 1.5 million collisions dating back to 2012, with additional data continuously added."
   ]
  },
  {
   "cell_type": "markdown",
   "metadata": {},
   "source": [
    "We'll work with an extract of the full data: Crashes from the year 2018. We made several modifications to the data, including randomly sampling the data to reduce its size."
   ]
  },
  {
   "cell_type": "code",
   "execution_count": 11,
   "metadata": {},
   "outputs": [],
   "source": [
    "import pandas as pd\n",
    "import numpy as np\n",
    "mvc = pd.read_csv(\"nypd_mvc_2018.csv\")"
   ]
  },
  {
   "cell_type": "markdown",
   "metadata": {},
   "source": [
    "A summary of the columns and their data is below:\n",
    "\n",
    "* unique_key: A unique identifier for each collision.\n",
    "* date, time: Date and time of the collision.\n",
    "* borough: The [borough](https://en.wikipedia.org/wiki/Boroughs_of_New_York_City), or area of New York City, where the collision occurred.\n",
    "* location: Latitude and longitude coordinates for the collision.\n",
    "* on_street, cross_street, off_street: Details of the street or intersection where the collision occurred.\n",
    "* pedestrians_injured: Number of pedestrians who were injured.\n",
    "* cyclist_injured: Number of people traveling on a bicycle who were injured.\n",
    "* motorist_injured: Number of people traveling in a vehicle who were injured.\n",
    "* total_injured: Total number of people injured.\n",
    "* pedestrians_killed: Number of pedestrians who were killed.\n",
    "* cyclist_killed: Number of people traveling on a bicycle who were killed.\n",
    "* motorist_killed: Number of people traveling in a vehicle who were killed.\n",
    "* total_killed: Total number of people killed.\n",
    "* vehicle_1 through vehicle_5: Type of each vehicle involved in the accident.\n",
    "* cause_vehicle_1 through cause_vehicle_5: Contributing factor for each vehicle in the accident."
   ]
  },
  {
   "cell_type": "code",
   "execution_count": 12,
   "metadata": {},
   "outputs": [],
   "source": [
    "# data = np.random.choice([1.0, np.nan],\n",
    "#                         size=(3, 3),\n",
    "#                         p=[.3, .7])\n",
    "\n",
    "# data"
   ]
  },
  {
   "cell_type": "code",
   "execution_count": 13,
   "metadata": {},
   "outputs": [],
   "source": [
    "# df = pd.DataFrame(data, columns = [\"A\", \"B\", \"C\"])\n",
    "# print(df)"
   ]
  },
  {
   "cell_type": "code",
   "execution_count": 14,
   "metadata": {},
   "outputs": [],
   "source": [
    "# print(df.isnull().sum())"
   ]
  },
  {
   "cell_type": "code",
   "execution_count": 15,
   "metadata": {},
   "outputs": [
    {
     "data": {
      "text/html": [
       "<div>\n",
       "<style scoped>\n",
       "    .dataframe tbody tr th:only-of-type {\n",
       "        vertical-align: middle;\n",
       "    }\n",
       "\n",
       "    .dataframe tbody tr th {\n",
       "        vertical-align: top;\n",
       "    }\n",
       "\n",
       "    .dataframe thead th {\n",
       "        text-align: right;\n",
       "    }\n",
       "</style>\n",
       "<table border=\"1\" class=\"dataframe\">\n",
       "  <thead>\n",
       "    <tr style=\"text-align: right;\">\n",
       "      <th></th>\n",
       "      <th>null_counts</th>\n",
       "      <th>null_pct</th>\n",
       "    </tr>\n",
       "  </thead>\n",
       "  <tbody>\n",
       "    <tr>\n",
       "      <th>unique_key</th>\n",
       "      <td>0</td>\n",
       "      <td>0.000000</td>\n",
       "    </tr>\n",
       "    <tr>\n",
       "      <th>date</th>\n",
       "      <td>0</td>\n",
       "      <td>0.000000</td>\n",
       "    </tr>\n",
       "    <tr>\n",
       "      <th>time</th>\n",
       "      <td>0</td>\n",
       "      <td>0.000000</td>\n",
       "    </tr>\n",
       "    <tr>\n",
       "      <th>borough</th>\n",
       "      <td>20646</td>\n",
       "      <td>35.680216</td>\n",
       "    </tr>\n",
       "    <tr>\n",
       "      <th>location</th>\n",
       "      <td>3885</td>\n",
       "      <td>6.714019</td>\n",
       "    </tr>\n",
       "    <tr>\n",
       "      <th>on_street</th>\n",
       "      <td>13961</td>\n",
       "      <td>24.127264</td>\n",
       "    </tr>\n",
       "    <tr>\n",
       "      <th>cross_street</th>\n",
       "      <td>29249</td>\n",
       "      <td>50.547836</td>\n",
       "    </tr>\n",
       "    <tr>\n",
       "      <th>off_street</th>\n",
       "      <td>44093</td>\n",
       "      <td>76.201092</td>\n",
       "    </tr>\n",
       "    <tr>\n",
       "      <th>pedestrians_injured</th>\n",
       "      <td>0</td>\n",
       "      <td>0.000000</td>\n",
       "    </tr>\n",
       "    <tr>\n",
       "      <th>cyclist_injured</th>\n",
       "      <td>0</td>\n",
       "      <td>0.000000</td>\n",
       "    </tr>\n",
       "    <tr>\n",
       "      <th>motorist_injured</th>\n",
       "      <td>0</td>\n",
       "      <td>0.000000</td>\n",
       "    </tr>\n",
       "    <tr>\n",
       "      <th>total_injured</th>\n",
       "      <td>1</td>\n",
       "      <td>0.001728</td>\n",
       "    </tr>\n",
       "    <tr>\n",
       "      <th>pedestrians_killed</th>\n",
       "      <td>0</td>\n",
       "      <td>0.000000</td>\n",
       "    </tr>\n",
       "    <tr>\n",
       "      <th>cyclist_killed</th>\n",
       "      <td>0</td>\n",
       "      <td>0.000000</td>\n",
       "    </tr>\n",
       "    <tr>\n",
       "      <th>motorist_killed</th>\n",
       "      <td>0</td>\n",
       "      <td>0.000000</td>\n",
       "    </tr>\n",
       "    <tr>\n",
       "      <th>total_killed</th>\n",
       "      <td>5</td>\n",
       "      <td>0.008641</td>\n",
       "    </tr>\n",
       "    <tr>\n",
       "      <th>vehicle_1</th>\n",
       "      <td>355</td>\n",
       "      <td>0.613508</td>\n",
       "    </tr>\n",
       "    <tr>\n",
       "      <th>vehicle_2</th>\n",
       "      <td>12262</td>\n",
       "      <td>21.191069</td>\n",
       "    </tr>\n",
       "    <tr>\n",
       "      <th>vehicle_3</th>\n",
       "      <td>54352</td>\n",
       "      <td>93.930596</td>\n",
       "    </tr>\n",
       "    <tr>\n",
       "      <th>vehicle_4</th>\n",
       "      <td>57158</td>\n",
       "      <td>98.779898</td>\n",
       "    </tr>\n",
       "    <tr>\n",
       "      <th>vehicle_5</th>\n",
       "      <td>57681</td>\n",
       "      <td>99.683741</td>\n",
       "    </tr>\n",
       "    <tr>\n",
       "      <th>cause_vehicle_1</th>\n",
       "      <td>175</td>\n",
       "      <td>0.302433</td>\n",
       "    </tr>\n",
       "    <tr>\n",
       "      <th>cause_vehicle_2</th>\n",
       "      <td>8692</td>\n",
       "      <td>15.021430</td>\n",
       "    </tr>\n",
       "    <tr>\n",
       "      <th>cause_vehicle_3</th>\n",
       "      <td>54134</td>\n",
       "      <td>93.553850</td>\n",
       "    </tr>\n",
       "    <tr>\n",
       "      <th>cause_vehicle_4</th>\n",
       "      <td>57111</td>\n",
       "      <td>98.698673</td>\n",
       "    </tr>\n",
       "    <tr>\n",
       "      <th>cause_vehicle_5</th>\n",
       "      <td>57671</td>\n",
       "      <td>99.666459</td>\n",
       "    </tr>\n",
       "  </tbody>\n",
       "</table>\n",
       "</div>"
      ],
      "text/plain": [
       "                     null_counts   null_pct\n",
       "unique_key                     0   0.000000\n",
       "date                           0   0.000000\n",
       "time                           0   0.000000\n",
       "borough                    20646  35.680216\n",
       "location                    3885   6.714019\n",
       "on_street                  13961  24.127264\n",
       "cross_street               29249  50.547836\n",
       "off_street                 44093  76.201092\n",
       "pedestrians_injured            0   0.000000\n",
       "cyclist_injured                0   0.000000\n",
       "motorist_injured               0   0.000000\n",
       "total_injured                  1   0.001728\n",
       "pedestrians_killed             0   0.000000\n",
       "cyclist_killed                 0   0.000000\n",
       "motorist_killed                0   0.000000\n",
       "total_killed                   5   0.008641\n",
       "vehicle_1                    355   0.613508\n",
       "vehicle_2                  12262  21.191069\n",
       "vehicle_3                  54352  93.930596\n",
       "vehicle_4                  57158  98.779898\n",
       "vehicle_5                  57681  99.683741\n",
       "cause_vehicle_1              175   0.302433\n",
       "cause_vehicle_2             8692  15.021430\n",
       "cause_vehicle_3            54134  93.553850\n",
       "cause_vehicle_4            57111  98.698673\n",
       "cause_vehicle_5            57671  99.666459"
      ]
     },
     "execution_count": 15,
     "metadata": {},
     "output_type": "execute_result"
    }
   ],
   "source": [
    "null_counts = mvc.isnull().sum()\n",
    "\n",
    "# calculate the percentage of null values in each column.\n",
    "\n",
    "null_counts_pct = null_counts / mvc.shape[0] * 100\n",
    "\n",
    "null_df = pd.DataFrame({'null_counts': null_counts, 'null_pct': null_counts_pct})\n",
    "null_df"
   ]
  },
  {
   "cell_type": "code",
   "execution_count": 16,
   "metadata": {},
   "outputs": [
    {
     "data": {
      "text/html": [
       "<div>\n",
       "<style scoped>\n",
       "    .dataframe tbody tr th:only-of-type {\n",
       "        vertical-align: middle;\n",
       "    }\n",
       "\n",
       "    .dataframe tbody tr th {\n",
       "        vertical-align: top;\n",
       "    }\n",
       "\n",
       "    .dataframe thead th {\n",
       "        text-align: right;\n",
       "    }\n",
       "</style>\n",
       "<table border=\"1\" class=\"dataframe\">\n",
       "  <thead>\n",
       "    <tr style=\"text-align: right;\">\n",
       "      <th></th>\n",
       "      <th>unique_key</th>\n",
       "      <th>date</th>\n",
       "      <th>time</th>\n",
       "      <th>borough</th>\n",
       "      <th>location</th>\n",
       "      <th>on_street</th>\n",
       "      <th>cross_street</th>\n",
       "      <th>off_street</th>\n",
       "      <th>pedestrians_injured</th>\n",
       "      <th>cyclist_injured</th>\n",
       "      <th>...</th>\n",
       "      <th>vehicle_1</th>\n",
       "      <th>vehicle_2</th>\n",
       "      <th>vehicle_3</th>\n",
       "      <th>vehicle_4</th>\n",
       "      <th>vehicle_5</th>\n",
       "      <th>cause_vehicle_1</th>\n",
       "      <th>cause_vehicle_2</th>\n",
       "      <th>cause_vehicle_3</th>\n",
       "      <th>cause_vehicle_4</th>\n",
       "      <th>cause_vehicle_5</th>\n",
       "    </tr>\n",
       "  </thead>\n",
       "  <tbody>\n",
       "    <tr>\n",
       "      <th>null_counts</th>\n",
       "      <td>0</td>\n",
       "      <td>0</td>\n",
       "      <td>0</td>\n",
       "      <td>20646</td>\n",
       "      <td>3885</td>\n",
       "      <td>13961</td>\n",
       "      <td>29249</td>\n",
       "      <td>44093</td>\n",
       "      <td>0</td>\n",
       "      <td>0</td>\n",
       "      <td>...</td>\n",
       "      <td>355</td>\n",
       "      <td>12262</td>\n",
       "      <td>54352</td>\n",
       "      <td>57158</td>\n",
       "      <td>57681</td>\n",
       "      <td>175</td>\n",
       "      <td>8692</td>\n",
       "      <td>54134</td>\n",
       "      <td>57111</td>\n",
       "      <td>57671</td>\n",
       "    </tr>\n",
       "    <tr>\n",
       "      <th>null_pct</th>\n",
       "      <td>0</td>\n",
       "      <td>0</td>\n",
       "      <td>0</td>\n",
       "      <td>35</td>\n",
       "      <td>6</td>\n",
       "      <td>24</td>\n",
       "      <td>50</td>\n",
       "      <td>76</td>\n",
       "      <td>0</td>\n",
       "      <td>0</td>\n",
       "      <td>...</td>\n",
       "      <td>0</td>\n",
       "      <td>21</td>\n",
       "      <td>93</td>\n",
       "      <td>98</td>\n",
       "      <td>99</td>\n",
       "      <td>0</td>\n",
       "      <td>15</td>\n",
       "      <td>93</td>\n",
       "      <td>98</td>\n",
       "      <td>99</td>\n",
       "    </tr>\n",
       "  </tbody>\n",
       "</table>\n",
       "<p>2 rows × 26 columns</p>\n",
       "</div>"
      ],
      "text/plain": [
       "             unique_key  date  time  borough  location  on_street  \\\n",
       "null_counts           0     0     0    20646      3885      13961   \n",
       "null_pct              0     0     0       35         6         24   \n",
       "\n",
       "             cross_street  off_street  pedestrians_injured  cyclist_injured  \\\n",
       "null_counts         29249       44093                    0                0   \n",
       "null_pct               50          76                    0                0   \n",
       "\n",
       "             ...  vehicle_1  vehicle_2  vehicle_3  vehicle_4  vehicle_5  \\\n",
       "null_counts  ...        355      12262      54352      57158      57681   \n",
       "null_pct     ...          0         21         93         98         99   \n",
       "\n",
       "             cause_vehicle_1  cause_vehicle_2  cause_vehicle_3  \\\n",
       "null_counts              175             8692            54134   \n",
       "null_pct                   0               15               93   \n",
       "\n",
       "             cause_vehicle_4  cause_vehicle_5  \n",
       "null_counts            57111            57671  \n",
       "null_pct                  98               99  \n",
       "\n",
       "[2 rows x 26 columns]"
      ]
     },
     "execution_count": 16,
     "metadata": {},
     "output_type": "execute_result"
    }
   ],
   "source": [
    "# Rotate the dataframe so that rows become columns and vice-versa\n",
    "null_df = null_df.T.astype(int)\n",
    "null_df"
   ]
  },
  {
   "cell_type": "markdown",
   "metadata": {},
   "source": [
    "About a third of the columns have no null values, with the rest ranging from less than 1% to 99%!"
   ]
  },
  {
   "cell_type": "code",
   "execution_count": 17,
   "metadata": {},
   "outputs": [
    {
     "data": {
      "text/plain": [
       "['pedestrians_killed', 'cyclist_killed', 'motorist_killed', 'total_killed']"
      ]
     },
     "execution_count": 17,
     "metadata": {},
     "output_type": "execute_result"
    }
   ],
   "source": [
    "# creating a dataframe killed, containing the five columns that relate to people killed in collisions\n",
    "\n",
    "killed_cols = [col for col in mvc.columns if 'killed' in col]\n",
    "killed_cols"
   ]
  },
  {
   "cell_type": "code",
   "execution_count": 18,
   "metadata": {},
   "outputs": [
    {
     "data": {
      "text/html": [
       "<div>\n",
       "<style scoped>\n",
       "    .dataframe tbody tr th:only-of-type {\n",
       "        vertical-align: middle;\n",
       "    }\n",
       "\n",
       "    .dataframe tbody tr th {\n",
       "        vertical-align: top;\n",
       "    }\n",
       "\n",
       "    .dataframe thead th {\n",
       "        text-align: right;\n",
       "    }\n",
       "</style>\n",
       "<table border=\"1\" class=\"dataframe\">\n",
       "  <thead>\n",
       "    <tr style=\"text-align: right;\">\n",
       "      <th></th>\n",
       "      <th>pedestrians_killed</th>\n",
       "      <th>cyclist_killed</th>\n",
       "      <th>motorist_killed</th>\n",
       "      <th>total_killed</th>\n",
       "    </tr>\n",
       "  </thead>\n",
       "  <tbody>\n",
       "    <tr>\n",
       "      <th>0</th>\n",
       "      <td>0</td>\n",
       "      <td>0</td>\n",
       "      <td>0</td>\n",
       "      <td>0.0</td>\n",
       "    </tr>\n",
       "    <tr>\n",
       "      <th>1</th>\n",
       "      <td>0</td>\n",
       "      <td>0</td>\n",
       "      <td>0</td>\n",
       "      <td>0.0</td>\n",
       "    </tr>\n",
       "    <tr>\n",
       "      <th>2</th>\n",
       "      <td>0</td>\n",
       "      <td>0</td>\n",
       "      <td>0</td>\n",
       "      <td>0.0</td>\n",
       "    </tr>\n",
       "    <tr>\n",
       "      <th>3</th>\n",
       "      <td>0</td>\n",
       "      <td>0</td>\n",
       "      <td>0</td>\n",
       "      <td>0.0</td>\n",
       "    </tr>\n",
       "    <tr>\n",
       "      <th>4</th>\n",
       "      <td>0</td>\n",
       "      <td>0</td>\n",
       "      <td>0</td>\n",
       "      <td>0.0</td>\n",
       "    </tr>\n",
       "  </tbody>\n",
       "</table>\n",
       "</div>"
      ],
      "text/plain": [
       "   pedestrians_killed  cyclist_killed  motorist_killed  total_killed\n",
       "0                   0               0                0           0.0\n",
       "1                   0               0                0           0.0\n",
       "2                   0               0                0           0.0\n",
       "3                   0               0                0           0.0\n",
       "4                   0               0                0           0.0"
      ]
     },
     "execution_count": 18,
     "metadata": {},
     "output_type": "execute_result"
    }
   ],
   "source": [
    "killed = mvc[killed_cols].copy()\n",
    "killed.head()"
   ]
  },
  {
   "cell_type": "code",
   "execution_count": 19,
   "metadata": {},
   "outputs": [
    {
     "data": {
      "text/plain": [
       "0    0\n",
       "1    0\n",
       "2    0\n",
       "3    0\n",
       "4    0\n",
       "dtype: int64"
      ]
     },
     "execution_count": 19,
     "metadata": {},
     "output_type": "execute_result"
    }
   ],
   "source": [
    "# Select the first three columns from killed and sum each row\n",
    "killed_manual_sum = killed[[\"pedestrians_killed\",\"cyclist_killed\",\"motorist_killed\"]].sum(axis = 1)\n",
    "killed_manual_sum.head()"
   ]
  },
  {
   "cell_type": "code",
   "execution_count": 20,
   "metadata": {},
   "outputs": [
    {
     "data": {
      "text/html": [
       "<div>\n",
       "<style scoped>\n",
       "    .dataframe tbody tr th:only-of-type {\n",
       "        vertical-align: middle;\n",
       "    }\n",
       "\n",
       "    .dataframe tbody tr th {\n",
       "        vertical-align: top;\n",
       "    }\n",
       "\n",
       "    .dataframe thead th {\n",
       "        text-align: right;\n",
       "    }\n",
       "</style>\n",
       "<table border=\"1\" class=\"dataframe\">\n",
       "  <thead>\n",
       "    <tr style=\"text-align: right;\">\n",
       "      <th></th>\n",
       "      <th>pedestrians_killed</th>\n",
       "      <th>cyclist_killed</th>\n",
       "      <th>motorist_killed</th>\n",
       "      <th>total_killed</th>\n",
       "    </tr>\n",
       "  </thead>\n",
       "  <tbody>\n",
       "    <tr>\n",
       "      <th>3508</th>\n",
       "      <td>0</td>\n",
       "      <td>0</td>\n",
       "      <td>0</td>\n",
       "      <td>NaN</td>\n",
       "    </tr>\n",
       "    <tr>\n",
       "      <th>20163</th>\n",
       "      <td>0</td>\n",
       "      <td>0</td>\n",
       "      <td>0</td>\n",
       "      <td>NaN</td>\n",
       "    </tr>\n",
       "    <tr>\n",
       "      <th>22046</th>\n",
       "      <td>0</td>\n",
       "      <td>0</td>\n",
       "      <td>1</td>\n",
       "      <td>0.0</td>\n",
       "    </tr>\n",
       "    <tr>\n",
       "      <th>48719</th>\n",
       "      <td>0</td>\n",
       "      <td>0</td>\n",
       "      <td>0</td>\n",
       "      <td>NaN</td>\n",
       "    </tr>\n",
       "    <tr>\n",
       "      <th>55148</th>\n",
       "      <td>0</td>\n",
       "      <td>0</td>\n",
       "      <td>0</td>\n",
       "      <td>NaN</td>\n",
       "    </tr>\n",
       "    <tr>\n",
       "      <th>55699</th>\n",
       "      <td>0</td>\n",
       "      <td>0</td>\n",
       "      <td>0</td>\n",
       "      <td>NaN</td>\n",
       "    </tr>\n",
       "  </tbody>\n",
       "</table>\n",
       "</div>"
      ],
      "text/plain": [
       "       pedestrians_killed  cyclist_killed  motorist_killed  total_killed\n",
       "3508                    0               0                0           NaN\n",
       "20163                   0               0                0           NaN\n",
       "22046                   0               0                1           0.0\n",
       "48719                   0               0                0           NaN\n",
       "55148                   0               0                0           NaN\n",
       "55699                   0               0                0           NaN"
      ]
     },
     "execution_count": 20,
     "metadata": {},
     "output_type": "execute_result"
    }
   ],
   "source": [
    "# Create a boolean mask that checks whether each value in killed_manual_sum is not equal to the values in the total_killed\n",
    "\n",
    "killed_mask = killed_manual_sum != killed[\"total_killed\"]\n",
    "killed_non_eq = killed[killed_mask]\n",
    "killed_non_eq"
   ]
  },
  {
   "cell_type": "markdown",
   "metadata": {},
   "source": [
    "We can categorize these into two categories:\n",
    "\n",
    "1. Five rows where the total_killed is not equal to the sum of the other columns because the total value is missing.\n",
    "2. One row where the total_killed is less than the sum of the other columns."
   ]
  },
  {
   "cell_type": "markdown",
   "metadata": {},
   "source": [
    "Series.mask() is useful when you want to replace certain values in a series based off a boolean mask. The syntax for the method is:\n",
    "\n",
    "Series.mask(bool_mask, val_to_replace)\n",
    "\n",
    "we update using a single value, but we can also update with the matching value from a series that has identical index labels"
   ]
  },
  {
   "cell_type": "code",
   "execution_count": 21,
   "metadata": {},
   "outputs": [],
   "source": [
    "# fix the killed values\n",
    "\n",
    "# update the values in the total_killed column with all null values with the equivalent values from killed_manual_sum series\n",
    "\n",
    "killed['total_killed'] = killed['total_killed'].mask(killed['total_killed'].isnull(),killed_manual_sum )\n",
    "\n",
    "# replacing any values where the manual sum and the total column aren't equal with np.nan\n",
    "\n",
    "killed['total_killed'] = killed['total_killed'].mask(killed['total_killed']!=killed_manual_sum, np.nan )\n"
   ]
  },
  {
   "cell_type": "code",
   "execution_count": 22,
   "metadata": {},
   "outputs": [
    {
     "data": {
      "text/html": [
       "<div>\n",
       "<style scoped>\n",
       "    .dataframe tbody tr th:only-of-type {\n",
       "        vertical-align: middle;\n",
       "    }\n",
       "\n",
       "    .dataframe tbody tr th {\n",
       "        vertical-align: top;\n",
       "    }\n",
       "\n",
       "    .dataframe thead th {\n",
       "        text-align: right;\n",
       "    }\n",
       "</style>\n",
       "<table border=\"1\" class=\"dataframe\">\n",
       "  <thead>\n",
       "    <tr style=\"text-align: right;\">\n",
       "      <th></th>\n",
       "      <th>pedestrians_injured</th>\n",
       "      <th>cyclist_injured</th>\n",
       "      <th>motorist_injured</th>\n",
       "      <th>total_injured</th>\n",
       "    </tr>\n",
       "  </thead>\n",
       "  <tbody>\n",
       "    <tr>\n",
       "      <th>0</th>\n",
       "      <td>0</td>\n",
       "      <td>0</td>\n",
       "      <td>0</td>\n",
       "      <td>0.0</td>\n",
       "    </tr>\n",
       "    <tr>\n",
       "      <th>1</th>\n",
       "      <td>0</td>\n",
       "      <td>0</td>\n",
       "      <td>0</td>\n",
       "      <td>0.0</td>\n",
       "    </tr>\n",
       "    <tr>\n",
       "      <th>2</th>\n",
       "      <td>0</td>\n",
       "      <td>0</td>\n",
       "      <td>1</td>\n",
       "      <td>1.0</td>\n",
       "    </tr>\n",
       "    <tr>\n",
       "      <th>3</th>\n",
       "      <td>0</td>\n",
       "      <td>0</td>\n",
       "      <td>0</td>\n",
       "      <td>0.0</td>\n",
       "    </tr>\n",
       "    <tr>\n",
       "      <th>4</th>\n",
       "      <td>0</td>\n",
       "      <td>0</td>\n",
       "      <td>0</td>\n",
       "      <td>0.0</td>\n",
       "    </tr>\n",
       "  </tbody>\n",
       "</table>\n",
       "</div>"
      ],
      "text/plain": [
       "   pedestrians_injured  cyclist_injured  motorist_injured  total_injured\n",
       "0                    0                0                 0            0.0\n",
       "1                    0                0                 0            0.0\n",
       "2                    0                0                 1            1.0\n",
       "3                    0                0                 0            0.0\n",
       "4                    0                0                 0            0.0"
      ]
     },
     "execution_count": 22,
     "metadata": {},
     "output_type": "execute_result"
    }
   ],
   "source": [
    "# Create an injured dataframe and manually sum values\n",
    "\n",
    "injured = mvc[[col for col in mvc.columns if 'injured' in col]].copy()\n",
    "injured.head()"
   ]
  },
  {
   "cell_type": "code",
   "execution_count": 23,
   "metadata": {},
   "outputs": [
    {
     "data": {
      "text/plain": [
       "0    0\n",
       "1    0\n",
       "2    1\n",
       "3    0\n",
       "4    0\n",
       "dtype: int64"
      ]
     },
     "execution_count": 23,
     "metadata": {},
     "output_type": "execute_result"
    }
   ],
   "source": [
    "# manually summing the three individual injured columns\n",
    "\n",
    "injured_manual_sum = injured.iloc[:,0:3].sum(axis = 1)\n",
    "injured_manual_sum.head()"
   ]
  },
  {
   "cell_type": "markdown",
   "metadata": {},
   "source": [
    "Using Series.mask() to replace any null values from the total_injured column with their equivalents from the injured_manual_sum series."
   ]
  },
  {
   "cell_type": "code",
   "execution_count": 24,
   "metadata": {},
   "outputs": [],
   "source": [
    "injured[\"total_injured\"] = injured[\"total_injured\"].mask(injured[\"total_injured\"].isnull(), injured_manual_sum )\n"
   ]
  },
  {
   "cell_type": "markdown",
   "metadata": {},
   "source": [
    "Using Series.mask() to replace any numbers from total_injured that aren't equal to their equivalents in injured_manual_sum with np.nan"
   ]
  },
  {
   "cell_type": "code",
   "execution_count": 25,
   "metadata": {},
   "outputs": [],
   "source": [
    "injured[\"total_injured\"] = injured[\"total_injured\"].mask(injured[\"total_injured\"]!=injured_manual_sum, np.nan )\n"
   ]
  },
  {
   "cell_type": "code",
   "execution_count": 26,
   "metadata": {},
   "outputs": [
    {
     "data": {
      "text/plain": [
       "{'injured': [1, 21], 'killed': [5, 1]}"
      ]
     },
     "execution_count": 26,
     "metadata": {},
     "output_type": "execute_result"
    }
   ],
   "source": [
    "# summarize the count of null values before and after our changes:\n",
    "summary = {\n",
    "    'injured': [\n",
    "        mvc['total_injured'].isnull().sum(),\n",
    "        injured['total_injured'].isnull().sum()\n",
    "    ],\n",
    "    'killed': [\n",
    "        mvc['total_killed'].isnull().sum(),\n",
    "        killed['total_killed'].isnull().sum()\n",
    "    ]\n",
    "}\n",
    "\n",
    "summary"
   ]
  },
  {
   "cell_type": "markdown",
   "metadata": {},
   "source": [
    "For the total_killed column, the number of values has gone down from 5 to 1. For the total_injured column, the number of values has actually gone up — from 1 to 21."
   ]
  },
  {
   "cell_type": "code",
   "execution_count": 27,
   "metadata": {},
   "outputs": [],
   "source": [
    "# assign the values from the killed and injured dataframe to the main mvc dataframe:\n",
    "mvc['total_injured'] = injured['total_injured']\n",
    "mvc['total_killed'] = killed['total_killed']"
   ]
  },
  {
   "cell_type": "markdown",
   "metadata": {},
   "source": [
    "We used a table of numbers to understand the number of missing values in our dataframe. A different approach we can take is to use a plot to visualize the missing values. The function below uses seaborn.heatmap() to represent null values as light squares and non-null values as dark squares:"
   ]
  },
  {
   "cell_type": "code",
   "execution_count": 28,
   "metadata": {},
   "outputs": [
    {
     "data": {
      "text/plain": [
       "<Figure size 1800x1500 with 1 Axes>"
      ]
     },
     "metadata": {},
     "output_type": "display_data"
    }
   ],
   "source": [
    "import matplotlib.pyplot as plt\n",
    "import seaborn as sns\n",
    "\n",
    "def plot_null_matrix(df, figsize=(18,15)):\n",
    "    plt.figure(figsize = figsize)\n",
    "    df_null = df.isnull()\n",
    "    sns.heatmap(df_null, cbar = False, yticklabels = False )\n",
    "    plt.xticks(rotation = 90, size = 'x-large')\n",
    "    plt.show()\n",
    "    \n",
    "plot_null_matrix(mvc)\n"
   ]
  },
  {
   "cell_type": "markdown",
   "metadata": {},
   "source": [
    "We can make some immediate interpretations about our dataframe:\n",
    "\n",
    "* The first three columns have few to no missing values.\n",
    "* The next five columns have missing values scattered throughout, with each column seeming to have its own density of missing values.\n",
    "* The next eight columns are the injury and killed columns we just cleaned, and only have a few missing values.\n",
    "* The last 10 columns seem to break into two groups of five, with each group of five having similar patterns of null/non-null values."
   ]
  },
  {
   "cell_type": "markdown",
   "metadata": {},
   "source": [
    "Let's examine the pattern in the last 10 columns a little more closely. We can calculate the relationship between two sets of columns, known as correlation. To calculate this we use the dataframe.corr() [method](https://pandas.pydata.org/pandas-docs/stable/reference/api/pandas.DataFrame.corr.html) "
   ]
  },
  {
   "cell_type": "code",
   "execution_count": 29,
   "metadata": {},
   "outputs": [
    {
     "data": {
      "text/plain": [
       "Index(['borough', 'location', 'on_street', 'cross_street', 'off_street',\n",
       "       'total_injured', 'total_killed', 'vehicle_1', 'vehicle_2', 'vehicle_3',\n",
       "       'vehicle_4', 'vehicle_5', 'cause_vehicle_1', 'cause_vehicle_2',\n",
       "       'cause_vehicle_3', 'cause_vehicle_4', 'cause_vehicle_5'],\n",
       "      dtype='object')"
      ]
     },
     "execution_count": 29,
     "metadata": {},
     "output_type": "execute_result"
    }
   ],
   "source": [
    "cols_with_missing_vals = mvc.columns[mvc.isnull().sum() > 0]\n",
    "cols_with_missing_vals"
   ]
  },
  {
   "cell_type": "code",
   "execution_count": 30,
   "metadata": {},
   "outputs": [
    {
     "data": {
      "text/html": [
       "<div>\n",
       "<style scoped>\n",
       "    .dataframe tbody tr th:only-of-type {\n",
       "        vertical-align: middle;\n",
       "    }\n",
       "\n",
       "    .dataframe tbody tr th {\n",
       "        vertical-align: top;\n",
       "    }\n",
       "\n",
       "    .dataframe thead th {\n",
       "        text-align: right;\n",
       "    }\n",
       "</style>\n",
       "<table border=\"1\" class=\"dataframe\">\n",
       "  <thead>\n",
       "    <tr style=\"text-align: right;\">\n",
       "      <th></th>\n",
       "      <th>borough</th>\n",
       "      <th>location</th>\n",
       "      <th>on_street</th>\n",
       "      <th>cross_street</th>\n",
       "      <th>off_street</th>\n",
       "      <th>total_injured</th>\n",
       "      <th>total_killed</th>\n",
       "      <th>vehicle_1</th>\n",
       "      <th>vehicle_2</th>\n",
       "      <th>vehicle_3</th>\n",
       "      <th>vehicle_4</th>\n",
       "      <th>vehicle_5</th>\n",
       "      <th>cause_vehicle_1</th>\n",
       "      <th>cause_vehicle_2</th>\n",
       "      <th>cause_vehicle_3</th>\n",
       "      <th>cause_vehicle_4</th>\n",
       "      <th>cause_vehicle_5</th>\n",
       "    </tr>\n",
       "  </thead>\n",
       "  <tbody>\n",
       "    <tr>\n",
       "      <th>borough</th>\n",
       "      <td>1.000000</td>\n",
       "      <td>0.190105</td>\n",
       "      <td>-0.350190</td>\n",
       "      <td>0.409107</td>\n",
       "      <td>0.362189</td>\n",
       "      <td>-0.002827</td>\n",
       "      <td>0.005582</td>\n",
       "      <td>-0.018325</td>\n",
       "      <td>-0.077516</td>\n",
       "      <td>-0.061932</td>\n",
       "      <td>-0.020406</td>\n",
       "      <td>-0.010733</td>\n",
       "      <td>-0.012115</td>\n",
       "      <td>-0.058596</td>\n",
       "      <td>-0.060542</td>\n",
       "      <td>-0.020158</td>\n",
       "      <td>-0.011348</td>\n",
       "    </tr>\n",
       "    <tr>\n",
       "      <th>location</th>\n",
       "      <td>0.190105</td>\n",
       "      <td>1.000000</td>\n",
       "      <td>-0.073975</td>\n",
       "      <td>-0.069719</td>\n",
       "      <td>0.084579</td>\n",
       "      <td>-0.001486</td>\n",
       "      <td>0.015496</td>\n",
       "      <td>-0.010466</td>\n",
       "      <td>-0.033842</td>\n",
       "      <td>-0.000927</td>\n",
       "      <td>0.004655</td>\n",
       "      <td>-0.005797</td>\n",
       "      <td>-0.003458</td>\n",
       "      <td>-0.021373</td>\n",
       "      <td>0.000684</td>\n",
       "      <td>0.004604</td>\n",
       "      <td>-0.004841</td>\n",
       "    </tr>\n",
       "    <tr>\n",
       "      <th>on_street</th>\n",
       "      <td>-0.350190</td>\n",
       "      <td>-0.073975</td>\n",
       "      <td>1.000000</td>\n",
       "      <td>0.557767</td>\n",
       "      <td>-0.991030</td>\n",
       "      <td>0.006220</td>\n",
       "      <td>-0.002344</td>\n",
       "      <td>-0.001889</td>\n",
       "      <td>0.119647</td>\n",
       "      <td>0.020867</td>\n",
       "      <td>0.004172</td>\n",
       "      <td>-0.002768</td>\n",
       "      <td>0.001307</td>\n",
       "      <td>0.087374</td>\n",
       "      <td>0.017426</td>\n",
       "      <td>0.002737</td>\n",
       "      <td>-0.003107</td>\n",
       "    </tr>\n",
       "    <tr>\n",
       "      <th>cross_street</th>\n",
       "      <td>0.409107</td>\n",
       "      <td>-0.069719</td>\n",
       "      <td>0.557767</td>\n",
       "      <td>1.000000</td>\n",
       "      <td>-0.552763</td>\n",
       "      <td>0.002513</td>\n",
       "      <td>0.004112</td>\n",
       "      <td>-0.017018</td>\n",
       "      <td>0.043799</td>\n",
       "      <td>-0.049910</td>\n",
       "      <td>-0.021137</td>\n",
       "      <td>-0.012003</td>\n",
       "      <td>-0.009102</td>\n",
       "      <td>0.031189</td>\n",
       "      <td>-0.052159</td>\n",
       "      <td>-0.022074</td>\n",
       "      <td>-0.013455</td>\n",
       "    </tr>\n",
       "    <tr>\n",
       "      <th>off_street</th>\n",
       "      <td>0.362189</td>\n",
       "      <td>0.084579</td>\n",
       "      <td>-0.991030</td>\n",
       "      <td>-0.552763</td>\n",
       "      <td>1.000000</td>\n",
       "      <td>-0.004266</td>\n",
       "      <td>0.002323</td>\n",
       "      <td>0.001812</td>\n",
       "      <td>-0.121129</td>\n",
       "      <td>-0.022404</td>\n",
       "      <td>-0.004074</td>\n",
       "      <td>0.002492</td>\n",
       "      <td>-0.001738</td>\n",
       "      <td>-0.088187</td>\n",
       "      <td>-0.019120</td>\n",
       "      <td>-0.002580</td>\n",
       "      <td>0.002863</td>\n",
       "    </tr>\n",
       "    <tr>\n",
       "      <th>total_injured</th>\n",
       "      <td>-0.002827</td>\n",
       "      <td>-0.001486</td>\n",
       "      <td>0.006220</td>\n",
       "      <td>0.002513</td>\n",
       "      <td>-0.004266</td>\n",
       "      <td>1.000000</td>\n",
       "      <td>-0.000079</td>\n",
       "      <td>0.079840</td>\n",
       "      <td>0.025644</td>\n",
       "      <td>-0.002757</td>\n",
       "      <td>0.002118</td>\n",
       "      <td>0.001073</td>\n",
       "      <td>0.131140</td>\n",
       "      <td>0.030082</td>\n",
       "      <td>-0.002388</td>\n",
       "      <td>0.002188</td>\n",
       "      <td>0.001102</td>\n",
       "    </tr>\n",
       "    <tr>\n",
       "      <th>total_killed</th>\n",
       "      <td>0.005582</td>\n",
       "      <td>0.015496</td>\n",
       "      <td>-0.002344</td>\n",
       "      <td>0.004112</td>\n",
       "      <td>0.002323</td>\n",
       "      <td>-0.000079</td>\n",
       "      <td>1.000000</td>\n",
       "      <td>-0.000327</td>\n",
       "      <td>0.008017</td>\n",
       "      <td>0.001057</td>\n",
       "      <td>0.000462</td>\n",
       "      <td>0.000234</td>\n",
       "      <td>-0.000229</td>\n",
       "      <td>0.009888</td>\n",
       "      <td>0.001091</td>\n",
       "      <td>0.000477</td>\n",
       "      <td>0.000240</td>\n",
       "    </tr>\n",
       "    <tr>\n",
       "      <th>vehicle_1</th>\n",
       "      <td>-0.018325</td>\n",
       "      <td>-0.010466</td>\n",
       "      <td>-0.001889</td>\n",
       "      <td>-0.017018</td>\n",
       "      <td>0.001812</td>\n",
       "      <td>0.079840</td>\n",
       "      <td>-0.000327</td>\n",
       "      <td>1.000000</td>\n",
       "      <td>0.151516</td>\n",
       "      <td>0.019972</td>\n",
       "      <td>0.008732</td>\n",
       "      <td>0.004425</td>\n",
       "      <td>0.604281</td>\n",
       "      <td>0.180678</td>\n",
       "      <td>0.020624</td>\n",
       "      <td>0.009022</td>\n",
       "      <td>0.004545</td>\n",
       "    </tr>\n",
       "    <tr>\n",
       "      <th>vehicle_2</th>\n",
       "      <td>-0.077516</td>\n",
       "      <td>-0.033842</td>\n",
       "      <td>0.119647</td>\n",
       "      <td>0.043799</td>\n",
       "      <td>-0.121129</td>\n",
       "      <td>0.025644</td>\n",
       "      <td>0.008017</td>\n",
       "      <td>0.151516</td>\n",
       "      <td>1.000000</td>\n",
       "      <td>0.131813</td>\n",
       "      <td>0.057631</td>\n",
       "      <td>0.029208</td>\n",
       "      <td>0.106214</td>\n",
       "      <td>0.784402</td>\n",
       "      <td>0.132499</td>\n",
       "      <td>0.058050</td>\n",
       "      <td>0.029264</td>\n",
       "    </tr>\n",
       "    <tr>\n",
       "      <th>vehicle_3</th>\n",
       "      <td>-0.061932</td>\n",
       "      <td>-0.000927</td>\n",
       "      <td>0.020867</td>\n",
       "      <td>-0.049910</td>\n",
       "      <td>-0.022404</td>\n",
       "      <td>-0.002757</td>\n",
       "      <td>0.001057</td>\n",
       "      <td>0.019972</td>\n",
       "      <td>0.131813</td>\n",
       "      <td>1.000000</td>\n",
       "      <td>0.437214</td>\n",
       "      <td>0.221585</td>\n",
       "      <td>0.014000</td>\n",
       "      <td>0.106874</td>\n",
       "      <td>0.961316</td>\n",
       "      <td>0.448525</td>\n",
       "      <td>0.225067</td>\n",
       "    </tr>\n",
       "    <tr>\n",
       "      <th>vehicle_4</th>\n",
       "      <td>-0.020406</td>\n",
       "      <td>0.004655</td>\n",
       "      <td>0.004172</td>\n",
       "      <td>-0.021137</td>\n",
       "      <td>-0.004074</td>\n",
       "      <td>0.002118</td>\n",
       "      <td>0.000462</td>\n",
       "      <td>0.008732</td>\n",
       "      <td>0.057631</td>\n",
       "      <td>0.437214</td>\n",
       "      <td>1.000000</td>\n",
       "      <td>0.506810</td>\n",
       "      <td>0.006121</td>\n",
       "      <td>0.046727</td>\n",
       "      <td>0.423394</td>\n",
       "      <td>0.963723</td>\n",
       "      <td>0.515058</td>\n",
       "    </tr>\n",
       "    <tr>\n",
       "      <th>vehicle_5</th>\n",
       "      <td>-0.010733</td>\n",
       "      <td>-0.005797</td>\n",
       "      <td>-0.002768</td>\n",
       "      <td>-0.012003</td>\n",
       "      <td>0.002492</td>\n",
       "      <td>0.001073</td>\n",
       "      <td>0.000234</td>\n",
       "      <td>0.004425</td>\n",
       "      <td>0.029208</td>\n",
       "      <td>0.221585</td>\n",
       "      <td>0.506810</td>\n",
       "      <td>1.000000</td>\n",
       "      <td>0.003102</td>\n",
       "      <td>0.023682</td>\n",
       "      <td>0.214580</td>\n",
       "      <td>0.490537</td>\n",
       "      <td>0.973664</td>\n",
       "    </tr>\n",
       "    <tr>\n",
       "      <th>cause_vehicle_1</th>\n",
       "      <td>-0.012115</td>\n",
       "      <td>-0.003458</td>\n",
       "      <td>0.001307</td>\n",
       "      <td>-0.009102</td>\n",
       "      <td>-0.001738</td>\n",
       "      <td>0.131140</td>\n",
       "      <td>-0.000229</td>\n",
       "      <td>0.604281</td>\n",
       "      <td>0.106214</td>\n",
       "      <td>0.014000</td>\n",
       "      <td>0.006121</td>\n",
       "      <td>0.003102</td>\n",
       "      <td>1.000000</td>\n",
       "      <td>0.131000</td>\n",
       "      <td>0.014457</td>\n",
       "      <td>0.006324</td>\n",
       "      <td>0.003186</td>\n",
       "    </tr>\n",
       "    <tr>\n",
       "      <th>cause_vehicle_2</th>\n",
       "      <td>-0.058596</td>\n",
       "      <td>-0.021373</td>\n",
       "      <td>0.087374</td>\n",
       "      <td>0.031189</td>\n",
       "      <td>-0.088187</td>\n",
       "      <td>0.030082</td>\n",
       "      <td>0.009888</td>\n",
       "      <td>0.180678</td>\n",
       "      <td>0.784402</td>\n",
       "      <td>0.106874</td>\n",
       "      <td>0.046727</td>\n",
       "      <td>0.023682</td>\n",
       "      <td>0.131000</td>\n",
       "      <td>1.000000</td>\n",
       "      <td>0.110362</td>\n",
       "      <td>0.048277</td>\n",
       "      <td>0.024322</td>\n",
       "    </tr>\n",
       "    <tr>\n",
       "      <th>cause_vehicle_3</th>\n",
       "      <td>-0.060542</td>\n",
       "      <td>0.000684</td>\n",
       "      <td>0.017426</td>\n",
       "      <td>-0.052159</td>\n",
       "      <td>-0.019120</td>\n",
       "      <td>-0.002388</td>\n",
       "      <td>0.001091</td>\n",
       "      <td>0.020624</td>\n",
       "      <td>0.132499</td>\n",
       "      <td>0.961316</td>\n",
       "      <td>0.423394</td>\n",
       "      <td>0.214580</td>\n",
       "      <td>0.014457</td>\n",
       "      <td>0.110362</td>\n",
       "      <td>1.000000</td>\n",
       "      <td>0.437440</td>\n",
       "      <td>0.220384</td>\n",
       "    </tr>\n",
       "    <tr>\n",
       "      <th>cause_vehicle_4</th>\n",
       "      <td>-0.020158</td>\n",
       "      <td>0.004604</td>\n",
       "      <td>0.002737</td>\n",
       "      <td>-0.022074</td>\n",
       "      <td>-0.002580</td>\n",
       "      <td>0.002188</td>\n",
       "      <td>0.000477</td>\n",
       "      <td>0.009022</td>\n",
       "      <td>0.058050</td>\n",
       "      <td>0.448525</td>\n",
       "      <td>0.963723</td>\n",
       "      <td>0.490537</td>\n",
       "      <td>0.006324</td>\n",
       "      <td>0.048277</td>\n",
       "      <td>0.437440</td>\n",
       "      <td>1.000000</td>\n",
       "      <td>0.503805</td>\n",
       "    </tr>\n",
       "    <tr>\n",
       "      <th>cause_vehicle_5</th>\n",
       "      <td>-0.011348</td>\n",
       "      <td>-0.004841</td>\n",
       "      <td>-0.003107</td>\n",
       "      <td>-0.013455</td>\n",
       "      <td>0.002863</td>\n",
       "      <td>0.001102</td>\n",
       "      <td>0.000240</td>\n",
       "      <td>0.004545</td>\n",
       "      <td>0.029264</td>\n",
       "      <td>0.225067</td>\n",
       "      <td>0.515058</td>\n",
       "      <td>0.973664</td>\n",
       "      <td>0.003186</td>\n",
       "      <td>0.024322</td>\n",
       "      <td>0.220384</td>\n",
       "      <td>0.503805</td>\n",
       "      <td>1.000000</td>\n",
       "    </tr>\n",
       "  </tbody>\n",
       "</table>\n",
       "</div>"
      ],
      "text/plain": [
       "                  borough  location  on_street  cross_street  off_street  \\\n",
       "borough          1.000000  0.190105  -0.350190      0.409107    0.362189   \n",
       "location         0.190105  1.000000  -0.073975     -0.069719    0.084579   \n",
       "on_street       -0.350190 -0.073975   1.000000      0.557767   -0.991030   \n",
       "cross_street     0.409107 -0.069719   0.557767      1.000000   -0.552763   \n",
       "off_street       0.362189  0.084579  -0.991030     -0.552763    1.000000   \n",
       "total_injured   -0.002827 -0.001486   0.006220      0.002513   -0.004266   \n",
       "total_killed     0.005582  0.015496  -0.002344      0.004112    0.002323   \n",
       "vehicle_1       -0.018325 -0.010466  -0.001889     -0.017018    0.001812   \n",
       "vehicle_2       -0.077516 -0.033842   0.119647      0.043799   -0.121129   \n",
       "vehicle_3       -0.061932 -0.000927   0.020867     -0.049910   -0.022404   \n",
       "vehicle_4       -0.020406  0.004655   0.004172     -0.021137   -0.004074   \n",
       "vehicle_5       -0.010733 -0.005797  -0.002768     -0.012003    0.002492   \n",
       "cause_vehicle_1 -0.012115 -0.003458   0.001307     -0.009102   -0.001738   \n",
       "cause_vehicle_2 -0.058596 -0.021373   0.087374      0.031189   -0.088187   \n",
       "cause_vehicle_3 -0.060542  0.000684   0.017426     -0.052159   -0.019120   \n",
       "cause_vehicle_4 -0.020158  0.004604   0.002737     -0.022074   -0.002580   \n",
       "cause_vehicle_5 -0.011348 -0.004841  -0.003107     -0.013455    0.002863   \n",
       "\n",
       "                 total_injured  total_killed  vehicle_1  vehicle_2  vehicle_3  \\\n",
       "borough              -0.002827      0.005582  -0.018325  -0.077516  -0.061932   \n",
       "location             -0.001486      0.015496  -0.010466  -0.033842  -0.000927   \n",
       "on_street             0.006220     -0.002344  -0.001889   0.119647   0.020867   \n",
       "cross_street          0.002513      0.004112  -0.017018   0.043799  -0.049910   \n",
       "off_street           -0.004266      0.002323   0.001812  -0.121129  -0.022404   \n",
       "total_injured         1.000000     -0.000079   0.079840   0.025644  -0.002757   \n",
       "total_killed         -0.000079      1.000000  -0.000327   0.008017   0.001057   \n",
       "vehicle_1             0.079840     -0.000327   1.000000   0.151516   0.019972   \n",
       "vehicle_2             0.025644      0.008017   0.151516   1.000000   0.131813   \n",
       "vehicle_3            -0.002757      0.001057   0.019972   0.131813   1.000000   \n",
       "vehicle_4             0.002118      0.000462   0.008732   0.057631   0.437214   \n",
       "vehicle_5             0.001073      0.000234   0.004425   0.029208   0.221585   \n",
       "cause_vehicle_1       0.131140     -0.000229   0.604281   0.106214   0.014000   \n",
       "cause_vehicle_2       0.030082      0.009888   0.180678   0.784402   0.106874   \n",
       "cause_vehicle_3      -0.002388      0.001091   0.020624   0.132499   0.961316   \n",
       "cause_vehicle_4       0.002188      0.000477   0.009022   0.058050   0.448525   \n",
       "cause_vehicle_5       0.001102      0.000240   0.004545   0.029264   0.225067   \n",
       "\n",
       "                 vehicle_4  vehicle_5  cause_vehicle_1  cause_vehicle_2  \\\n",
       "borough          -0.020406  -0.010733        -0.012115        -0.058596   \n",
       "location          0.004655  -0.005797        -0.003458        -0.021373   \n",
       "on_street         0.004172  -0.002768         0.001307         0.087374   \n",
       "cross_street     -0.021137  -0.012003        -0.009102         0.031189   \n",
       "off_street       -0.004074   0.002492        -0.001738        -0.088187   \n",
       "total_injured     0.002118   0.001073         0.131140         0.030082   \n",
       "total_killed      0.000462   0.000234        -0.000229         0.009888   \n",
       "vehicle_1         0.008732   0.004425         0.604281         0.180678   \n",
       "vehicle_2         0.057631   0.029208         0.106214         0.784402   \n",
       "vehicle_3         0.437214   0.221585         0.014000         0.106874   \n",
       "vehicle_4         1.000000   0.506810         0.006121         0.046727   \n",
       "vehicle_5         0.506810   1.000000         0.003102         0.023682   \n",
       "cause_vehicle_1   0.006121   0.003102         1.000000         0.131000   \n",
       "cause_vehicle_2   0.046727   0.023682         0.131000         1.000000   \n",
       "cause_vehicle_3   0.423394   0.214580         0.014457         0.110362   \n",
       "cause_vehicle_4   0.963723   0.490537         0.006324         0.048277   \n",
       "cause_vehicle_5   0.515058   0.973664         0.003186         0.024322   \n",
       "\n",
       "                 cause_vehicle_3  cause_vehicle_4  cause_vehicle_5  \n",
       "borough                -0.060542        -0.020158        -0.011348  \n",
       "location                0.000684         0.004604        -0.004841  \n",
       "on_street               0.017426         0.002737        -0.003107  \n",
       "cross_street           -0.052159        -0.022074        -0.013455  \n",
       "off_street             -0.019120        -0.002580         0.002863  \n",
       "total_injured          -0.002388         0.002188         0.001102  \n",
       "total_killed            0.001091         0.000477         0.000240  \n",
       "vehicle_1               0.020624         0.009022         0.004545  \n",
       "vehicle_2               0.132499         0.058050         0.029264  \n",
       "vehicle_3               0.961316         0.448525         0.225067  \n",
       "vehicle_4               0.423394         0.963723         0.515058  \n",
       "vehicle_5               0.214580         0.490537         0.973664  \n",
       "cause_vehicle_1         0.014457         0.006324         0.003186  \n",
       "cause_vehicle_2         0.110362         0.048277         0.024322  \n",
       "cause_vehicle_3         1.000000         0.437440         0.220384  \n",
       "cause_vehicle_4         0.437440         1.000000         0.503805  \n",
       "cause_vehicle_5         0.220384         0.503805         1.000000  "
      ]
     },
     "execution_count": 30,
     "metadata": {},
     "output_type": "execute_result"
    }
   ],
   "source": [
    "missing_corr = mvc[cols_with_missing_vals].isnull().corr()\n",
    "missing_corr"
   ]
  },
  {
   "cell_type": "markdown",
   "metadata": {},
   "source": [
    "Each value is between **-1** and **1**, and represents the relationship between two columns. A number close to 1 or -1  represents a strong relationship, where a number in the middle (close to 0) represents a weak relationship.\n",
    "\n",
    "If we look closely, we can see a diagonal line of **1s** going from top left to bottom right. These values represent each columns relationship with itself, which of course is a perfect relationship. The values on the top/right of this \"line of **1s** mirror the values on the bottom/left of this line: The table actually repeats every value twice!"
   ]
  },
  {
   "cell_type": "markdown",
   "metadata": {},
   "source": [
    "Correlation tables can be hard to interpret. We can convert our table into a plot which will make this a lot easier."
   ]
  },
  {
   "cell_type": "code",
   "execution_count": 31,
   "metadata": {},
   "outputs": [],
   "source": [
    "# creating a function, plot_null_correlations(), which will plot correlations between null values in a dataframe.\n",
    "\n",
    "def plot_null_correlations(df):\n",
    "    cols_with_missing_vals = df.columns[df.isnull().sum() > 0]\n",
    "    missing_corr = df[cols_with_missing_vals].isnull().corr()\n",
    "    # create a triangular mask to avoid repeated values and make the plot easier to read\n",
    "    missing_corr = missing_corr.iloc[1:,:-1]\n",
    "    mask = np.triu(np.ones_like(missing_corr),k = 1)\n",
    "    # plot a heatmap of the values\n",
    "    plt.figure(figsize = (20,14))\n",
    "    ax = sns.heatmap(missing_corr, cbar=False,cmap='RdBu',annot=True,vmin=-1, vmax=1, mask = mask)\n",
    "    # format the text in the plot to make it easier to read\n",
    "    for text in ax.texts:\n",
    "        t = float(text.get_text())\n",
    "        if -0.05 < t < 0.01:\n",
    "            text.set_text('')\n",
    "        else:\n",
    "            text.set_text(round(t, 2))\n",
    "        text.set_fontsize('x-large')\n",
    "    plt.xticks(rotation=90, size='x-large')\n",
    "    plt.yticks(rotation=0, size='x-large')\n",
    "    plt.show()"
   ]
  },
  {
   "cell_type": "code",
   "execution_count": 32,
   "metadata": {},
   "outputs": [
    {
     "data": {
      "image/png": "[encoded data removed]",
      "text/plain": [
       "<Figure size 1440x1008 with 1 Axes>"
      ]
     },
     "metadata": {
      "needs_background": "light"
     },
     "output_type": "display_data"
    }
   ],
   "source": [
    "# list comprehension to produce a list of column names containing the substring 'vehicle'\n",
    "veh_cols = [col for col in mvc.columns if 'vehicle' in col]\n",
    "\n",
    "plot_null_correlations(mvc[veh_cols])"
   ]
  },
  {
   "cell_type": "markdown",
   "metadata": {},
   "source": [
    "numpy.triu(m, k=0)\n",
    "\n",
    "Upper triangle of an array.\n",
    "\n",
    "Return a copy of a matrix with the elements below the k-th diagonal zeroed."
   ]
  },
  {
   "cell_type": "code",
   "execution_count": 33,
   "metadata": {},
   "outputs": [],
   "source": [
    "# array = np.array([[1,2,3],[4,5,6],[7,8,9],[10,11,12]])\n",
    "# array"
   ]
  },
  {
   "cell_type": "code",
   "execution_count": 34,
   "metadata": {},
   "outputs": [],
   "source": [
    "# np.triu(np.ones_like(array), k = 1)"
   ]
  },
  {
   "cell_type": "markdown",
   "metadata": {},
   "source": [
    "Following having a higher correlation than the rest. The pairs of column names that make up these five correlations are:\n",
    "\n",
    "1. vehicle_1 and cause_vehicle_1\n",
    "2. vehicle_2 and cause_vehicle_2\n",
    "3. vehicle_3 and cause_vehicle_3\n",
    "4. vehicle_4 and cause_vehicle_4\n",
    "5. vehicle_5 and cause_vehicle_5\n",
    "\n",
    "If you think about it, this makes sense. When a vehicle is in an accident, there is likely to be a cause, and vice-versa."
   ]
  },
  {
   "cell_type": "markdown",
   "metadata": {},
   "source": [
    "Let's explore the variations in missing values from these five pairs of columns. We'll create a dataframe that counts, for each pair:\n",
    "\n",
    "* The number of values where the vehicle is missing when the cause is not missing.\n",
    "* The number of values where the cause is missing when the vehicle is not missing."
   ]
  },
  {
   "cell_type": "code",
   "execution_count": 35,
   "metadata": {},
   "outputs": [
    {
     "data": {
      "text/plain": [
       "[[1, 204, 24], [2, 3793, 223], [3, 242, 24], [4, 50, 3], [5, 10, 0]]"
      ]
     },
     "execution_count": 35,
     "metadata": {},
     "output_type": "execute_result"
    }
   ],
   "source": [
    "col_labels = ['v_number', 'vehicle_missing', 'cause_missing']\n",
    "\n",
    "vc_null_data = []\n",
    "for i in range(1,6):\n",
    "    v_col = f'vehicle_{i}'\n",
    "    c_col = 'cause_vehicle_{}'.format(i)\n",
    "    v_null = ((mvc[v_col].isnull()) & (mvc[c_col].notnull())).sum()\n",
    "    c_null = ((mvc[v_col].notnull()) & (mvc[c_col].isnull())).sum()\n",
    "    vc_null_data.append([i,v_null, c_null])\n",
    "vc_null_data    "
   ]
  },
  {
   "cell_type": "code",
   "execution_count": 36,
   "metadata": {},
   "outputs": [
    {
     "data": {
      "text/html": [
       "<div>\n",
       "<style scoped>\n",
       "    .dataframe tbody tr th:only-of-type {\n",
       "        vertical-align: middle;\n",
       "    }\n",
       "\n",
       "    .dataframe tbody tr th {\n",
       "        vertical-align: top;\n",
       "    }\n",
       "\n",
       "    .dataframe thead th {\n",
       "        text-align: right;\n",
       "    }\n",
       "</style>\n",
       "<table border=\"1\" class=\"dataframe\">\n",
       "  <thead>\n",
       "    <tr style=\"text-align: right;\">\n",
       "      <th></th>\n",
       "      <th>v_number</th>\n",
       "      <th>vehicle_missing</th>\n",
       "      <th>cause_missing</th>\n",
       "    </tr>\n",
       "  </thead>\n",
       "  <tbody>\n",
       "    <tr>\n",
       "      <th>0</th>\n",
       "      <td>1</td>\n",
       "      <td>204</td>\n",
       "      <td>24</td>\n",
       "    </tr>\n",
       "    <tr>\n",
       "      <th>1</th>\n",
       "      <td>2</td>\n",
       "      <td>3793</td>\n",
       "      <td>223</td>\n",
       "    </tr>\n",
       "    <tr>\n",
       "      <th>2</th>\n",
       "      <td>3</td>\n",
       "      <td>242</td>\n",
       "      <td>24</td>\n",
       "    </tr>\n",
       "    <tr>\n",
       "      <th>3</th>\n",
       "      <td>4</td>\n",
       "      <td>50</td>\n",
       "      <td>3</td>\n",
       "    </tr>\n",
       "    <tr>\n",
       "      <th>4</th>\n",
       "      <td>5</td>\n",
       "      <td>10</td>\n",
       "      <td>0</td>\n",
       "    </tr>\n",
       "  </tbody>\n",
       "</table>\n",
       "</div>"
      ],
      "text/plain": [
       "   v_number  vehicle_missing  cause_missing\n",
       "0         1              204             24\n",
       "1         2             3793            223\n",
       "2         3              242             24\n",
       "3         4               50              3\n",
       "4         5               10              0"
      ]
     },
     "execution_count": 36,
     "metadata": {},
     "output_type": "execute_result"
    }
   ],
   "source": [
    "vc_null_df = pd.DataFrame(vc_null_data,columns = col_labels)\n",
    "vc_null_df"
   ]
  },
  {
   "cell_type": "markdown",
   "metadata": {},
   "source": [
    "The analysis we did indicates that there are roughly 4,500 missing values across the 10 columns. The easiest option for handling these would be to drop the rows with missing values. This would mean losing almost 10% of the total data, which is something we ideally want to avoid."
   ]
  },
  {
   "cell_type": "markdown",
   "metadata": {},
   "source": [
    "A better option is to impute(fill missing data) the data, like we did earlier. Because the data in these columns is text data, we can't perform a numeric calculation to impute missing data like we did with the injuries and killed columns."
   ]
  },
  {
   "cell_type": "markdown",
   "metadata": {},
   "source": [
    "One common option when imputing is to use the most common value to fill in data. Let's look at the common values across these columns and see if we can use that to make a decision."
   ]
  },
  {
   "cell_type": "markdown",
   "metadata": {},
   "source": [
    "We've previously used the Series.value_counts() method to find the most common values in a single column. In this case, we want to find the most common values across multiple columns. In order to do this, we first need to convert our dataframe of multiple columns into one single column, and then we can use Series.value_counts() to count the items.\n",
    "\n",
    "To convert a dataframe to a single column of values, we use the DataFrame.stack() method, which stacks a dataframe object into a Series object."
   ]
  },
  {
   "cell_type": "markdown",
   "metadata": {},
   "source": [
    "This series object actually has two row indexes. The first index is the original row index, and the second contains the columns that correspond to the value"
   ]
  },
  {
   "cell_type": "code",
   "execution_count": 37,
   "metadata": {},
   "outputs": [
    {
     "name": "stdout",
     "output_type": "stream",
     "text": [
      "0  cause_vehicle_1    Following Too Closely\n",
      "   cause_vehicle_2              Unspecified\n",
      "1  cause_vehicle_1         Backing Unsafely\n",
      "   cause_vehicle_2              Unspecified\n",
      "2  cause_vehicle_1    Following Too Closely\n",
      "dtype: object\n"
     ]
    }
   ],
   "source": [
    "# count the most common values for the cause set of columns.\n",
    "\n",
    "cause_cols = [c for c in mvc.columns if \"cause\" in c]\n",
    "cause = mvc[cause_cols]\n",
    "# print(cause.head())\n",
    "cause_1d = cause.stack()\n",
    "print(cause_1d.head())"
   ]
  },
  {
   "cell_type": "markdown",
   "metadata": {},
   "source": [
    "We may notice that the stacked version omits null values - this is fine, as we're just interested in the most common non-null values"
   ]
  },
  {
   "cell_type": "code",
   "execution_count": 38,
   "metadata": {},
   "outputs": [
    {
     "name": "stdout",
     "output_type": "stream",
     "text": [
      "Unspecified                       57481\n",
      "Driver Inattention/Distraction    17650\n",
      "Following Too Closely              6567\n",
      "Failure to Yield Right-of-Way      4566\n",
      "Passing or Lane Usage Improper     3260\n",
      "Passing Too Closely                3045\n",
      "Backing Unsafely                   3001\n",
      "Other Vehicular                    2523\n",
      "Unsafe Lane Changing               2372\n",
      "Turning Improperly                 1590\n",
      "dtype: int64\n"
     ]
    }
   ],
   "source": [
    "cause_counts = cause_1d.value_counts()\n",
    "top10_causes = cause_counts.head(10)\n",
    "print(top10_causes)"
   ]
  },
  {
   "cell_type": "markdown",
   "metadata": {},
   "source": [
    "The most common non-null value for the cause columns is Unspecified, which presumably indicates that the officer reporting the collision was unable to determine the cause for that vehicle."
   ]
  },
  {
   "cell_type": "code",
   "execution_count": 39,
   "metadata": {},
   "outputs": [
    {
     "data": {
      "text/plain": [
       "['vehicle_1', 'vehicle_2', 'vehicle_3', 'vehicle_4', 'vehicle_5']"
      ]
     },
     "execution_count": 39,
     "metadata": {},
     "output_type": "execute_result"
    }
   ],
   "source": [
    "# list comprehension that identifies columns starting with the substring vehicle.\n",
    "import re\n",
    "v_cols = [c for c in mvc.columns if re.search(\"^vehicle\", c)]\n",
    "# Alternate method : v_cols = [c for c in mvc.columns if c.startswith(\"vehicle\")]\n",
    "v_cols"
   ]
  },
  {
   "cell_type": "code",
   "execution_count": 40,
   "metadata": {},
   "outputs": [
    {
     "data": {
      "text/plain": [
       "Sedan                                  33133\n",
       "Station Wagon/Sport Utility Vehicle    26124\n",
       "PASSENGER VEHICLE                      16026\n",
       "SPORT UTILITY / STATION WAGON          12356\n",
       "Taxi                                    3482\n",
       "Pick-up Truck                           2373\n",
       "TAXI                                    1892\n",
       "Box Truck                               1659\n",
       "Bike                                    1190\n",
       "Bus                                     1162\n",
       "dtype: int64"
      ]
     },
     "execution_count": 40,
     "metadata": {},
     "output_type": "execute_result"
    }
   ],
   "source": [
    "vehicle = mvc[v_cols]\n",
    "vehicle_1d = vehicle.stack()\n",
    "top10_vehicles = vehicle_1d.value_counts().head(10)\n",
    "top10_vehicles"
   ]
  },
  {
   "cell_type": "markdown",
   "metadata": {},
   "source": [
    "The top \"cause\" is an \"Unspecified\" placeholder. This is useful instead of a null value as it makes the distinction between a value that is missing because there were only a certain number of vehicles in the collision versus one that is because the contributing cause for a particular vehicle is unknown."
   ]
  },
  {
   "cell_type": "markdown",
   "metadata": {},
   "source": [
    "The vehicles columns don't have an equivalent, but we can still use the same technique. Here's the logic we'll need to do for each pair of vehicle/cause columns:\n",
    "\n",
    "* For values where the vehicle is null and the cause is non-null, set the vehicle to Unspecified.\n",
    "* For values where the cause is null and the vehicle is not-null, set the cause to Unspecified."
   ]
  },
  {
   "cell_type": "code",
   "execution_count": 41,
   "metadata": {},
   "outputs": [
    {
     "data": {
      "text/html": [
       "<div>\n",
       "<style scoped>\n",
       "    .dataframe tbody tr th:only-of-type {\n",
       "        vertical-align: middle;\n",
       "    }\n",
       "\n",
       "    .dataframe tbody tr th {\n",
       "        vertical-align: top;\n",
       "    }\n",
       "\n",
       "    .dataframe thead th {\n",
       "        text-align: right;\n",
       "    }\n",
       "</style>\n",
       "<table border=\"1\" class=\"dataframe\">\n",
       "  <thead>\n",
       "    <tr style=\"text-align: right;\">\n",
       "      <th></th>\n",
       "      <th>vehicle_number</th>\n",
       "      <th>vehicle_missing</th>\n",
       "      <th>cause_missing</th>\n",
       "    </tr>\n",
       "  </thead>\n",
       "  <tbody>\n",
       "    <tr>\n",
       "      <th>0</th>\n",
       "      <td>1</td>\n",
       "      <td>204</td>\n",
       "      <td>24</td>\n",
       "    </tr>\n",
       "    <tr>\n",
       "      <th>1</th>\n",
       "      <td>2</td>\n",
       "      <td>3793</td>\n",
       "      <td>223</td>\n",
       "    </tr>\n",
       "    <tr>\n",
       "      <th>2</th>\n",
       "      <td>3</td>\n",
       "      <td>242</td>\n",
       "      <td>24</td>\n",
       "    </tr>\n",
       "    <tr>\n",
       "      <th>3</th>\n",
       "      <td>4</td>\n",
       "      <td>50</td>\n",
       "      <td>3</td>\n",
       "    </tr>\n",
       "    <tr>\n",
       "      <th>4</th>\n",
       "      <td>5</td>\n",
       "      <td>10</td>\n",
       "      <td>0</td>\n",
       "    </tr>\n",
       "  </tbody>\n",
       "</table>\n",
       "</div>"
      ],
      "text/plain": [
       "   vehicle_number  vehicle_missing  cause_missing\n",
       "0               1              204             24\n",
       "1               2             3793            223\n",
       "2               3              242             24\n",
       "3               4               50              3\n",
       "4               5               10              0"
      ]
     },
     "execution_count": 41,
     "metadata": {},
     "output_type": "execute_result"
    }
   ],
   "source": [
    "def summarize_missing():\n",
    "    v_missing_data = []\n",
    "\n",
    "    for v in range(1,6):\n",
    "        v_col = 'vehicle_{}'.format(v)\n",
    "        c_col = 'cause_vehicle_{}'.format(v)\n",
    "\n",
    "        v_missing = (mvc[v_col].isnull() & mvc[c_col].notnull()).sum()\n",
    "        c_missing = (mvc[c_col].isnull() & mvc[v_col].notnull()).sum()\n",
    "\n",
    "        v_missing_data.append([v, v_missing, c_missing])\n",
    "\n",
    "    col_labels = columns=[\"vehicle_number\", \"vehicle_missing\", \"cause_missing\"]\n",
    "    return pd.DataFrame(v_missing_data, columns=col_labels)\n",
    "\n",
    "summary_before = summarize_missing()\n",
    "summary_before"
   ]
  },
  {
   "cell_type": "code",
   "execution_count": 42,
   "metadata": {},
   "outputs": [
    {
     "data": {
      "text/html": [
       "<div>\n",
       "<style scoped>\n",
       "    .dataframe tbody tr th:only-of-type {\n",
       "        vertical-align: middle;\n",
       "    }\n",
       "\n",
       "    .dataframe tbody tr th {\n",
       "        vertical-align: top;\n",
       "    }\n",
       "\n",
       "    .dataframe thead th {\n",
       "        text-align: right;\n",
       "    }\n",
       "</style>\n",
       "<table border=\"1\" class=\"dataframe\">\n",
       "  <thead>\n",
       "    <tr style=\"text-align: right;\">\n",
       "      <th></th>\n",
       "      <th>vehicle_number</th>\n",
       "      <th>vehicle_missing</th>\n",
       "      <th>cause_missing</th>\n",
       "    </tr>\n",
       "  </thead>\n",
       "  <tbody>\n",
       "    <tr>\n",
       "      <th>0</th>\n",
       "      <td>1</td>\n",
       "      <td>0</td>\n",
       "      <td>0</td>\n",
       "    </tr>\n",
       "    <tr>\n",
       "      <th>1</th>\n",
       "      <td>2</td>\n",
       "      <td>0</td>\n",
       "      <td>0</td>\n",
       "    </tr>\n",
       "    <tr>\n",
       "      <th>2</th>\n",
       "      <td>3</td>\n",
       "      <td>0</td>\n",
       "      <td>0</td>\n",
       "    </tr>\n",
       "    <tr>\n",
       "      <th>3</th>\n",
       "      <td>4</td>\n",
       "      <td>0</td>\n",
       "      <td>0</td>\n",
       "    </tr>\n",
       "    <tr>\n",
       "      <th>4</th>\n",
       "      <td>5</td>\n",
       "      <td>0</td>\n",
       "      <td>0</td>\n",
       "    </tr>\n",
       "  </tbody>\n",
       "</table>\n",
       "</div>"
      ],
      "text/plain": [
       "   vehicle_number  vehicle_missing  cause_missing\n",
       "0               1                0              0\n",
       "1               2                0              0\n",
       "2               3                0              0\n",
       "3               4                0              0\n",
       "4               5                0              0"
      ]
     },
     "execution_count": 42,
     "metadata": {},
     "output_type": "execute_result"
    }
   ],
   "source": [
    "for v in range(1,6):\n",
    "    v_col = 'vehicle_{}'.format(v)\n",
    "    c_col = 'cause_vehicle_{}'.format(v)\n",
    "    \n",
    "    v_missing_mask = mvc[v_col].isnull() & mvc[c_col].notnull()\n",
    "    c_missing_mask = mvc[c_col].isnull() & mvc[v_col].notnull()\n",
    "    mvc[v_col] = mvc[v_col].mask(v_missing_mask, 'Unspecified')\n",
    "    mvc[c_col] = mvc[c_col].mask(c_missing_mask,'Unspecified')\n",
    "    \n",
    "summary_after = summarize_missing()\n",
    "summary_after                               "
   ]
  },
  {
   "cell_type": "code",
   "execution_count": 43,
   "metadata": {},
   "outputs": [
    {
     "data": {
      "image/png": "[encoded data removed]",
      "text/plain": [
       "<Figure size 1440x1008 with 1 Axes>"
      ]
     },
     "metadata": {
      "needs_background": "light"
     },
     "output_type": "display_data"
    }
   ],
   "source": [
    "veh_cols = [c for c in mvc.columns if 'vehicle' in c]\n",
    "plot_null_correlations(mvc[veh_cols])"
   ]
  },
  {
   "cell_type": "markdown",
   "metadata": {},
   "source": [
    "We can see the perfect correlation between each pair of vehicle/cause columns represented by **1.0** in each square, which means that there is a perfect relationship between the five pairs of vehicle/cause columns."
   ]
  },
  {
   "cell_type": "markdown",
   "metadata": {},
   "source": [
    "Let's now turn our focus to the final set of columns that contain missing values — the columns that relate to the location of the accident. We'll start by looking at the first few rows to refamiliarize ourselves with the data:"
   ]
  },
  {
   "cell_type": "code",
   "execution_count": 59,
   "metadata": {},
   "outputs": [
    {
     "data": {
      "text/html": [
       "<div>\n",
       "<style scoped>\n",
       "    .dataframe tbody tr th:only-of-type {\n",
       "        vertical-align: middle;\n",
       "    }\n",
       "\n",
       "    .dataframe tbody tr th {\n",
       "        vertical-align: top;\n",
       "    }\n",
       "\n",
       "    .dataframe thead th {\n",
       "        text-align: right;\n",
       "    }\n",
       "</style>\n",
       "<table border=\"1\" class=\"dataframe\">\n",
       "  <thead>\n",
       "    <tr style=\"text-align: right;\">\n",
       "      <th></th>\n",
       "      <th>borough</th>\n",
       "      <th>location</th>\n",
       "      <th>on_street</th>\n",
       "      <th>off_street</th>\n",
       "      <th>cross_street</th>\n",
       "    </tr>\n",
       "  </thead>\n",
       "  <tbody>\n",
       "    <tr>\n",
       "      <th>0</th>\n",
       "      <td>MANHATTAN</td>\n",
       "      <td>(40.742832, -74.00771)</td>\n",
       "      <td>WEST 15 STREET</td>\n",
       "      <td>NaN</td>\n",
       "      <td>10 AVENUE</td>\n",
       "    </tr>\n",
       "    <tr>\n",
       "      <th>1</th>\n",
       "      <td>BROOKLYN</td>\n",
       "      <td>(40.623714, -73.99314)</td>\n",
       "      <td>16 AVENUE</td>\n",
       "      <td>NaN</td>\n",
       "      <td>62 STREET</td>\n",
       "    </tr>\n",
       "    <tr>\n",
       "      <th>2</th>\n",
       "      <td>NaN</td>\n",
       "      <td>(40.591755, -73.9083)</td>\n",
       "      <td>BELT PARKWAY</td>\n",
       "      <td>NaN</td>\n",
       "      <td>NaN</td>\n",
       "    </tr>\n",
       "    <tr>\n",
       "      <th>3</th>\n",
       "      <td>QUEENS</td>\n",
       "      <td>(40.73602, -73.87954)</td>\n",
       "      <td>GRAND AVENUE</td>\n",
       "      <td>NaN</td>\n",
       "      <td>VANLOON STREET</td>\n",
       "    </tr>\n",
       "    <tr>\n",
       "      <th>4</th>\n",
       "      <td>BRONX</td>\n",
       "      <td>(40.884727, -73.89945)</td>\n",
       "      <td>NaN</td>\n",
       "      <td>208       WEST 238 STREET</td>\n",
       "      <td>NaN</td>\n",
       "    </tr>\n",
       "  </tbody>\n",
       "</table>\n",
       "</div>"
      ],
      "text/plain": [
       "     borough                location                         on_street  \\\n",
       "0  MANHATTAN  (40.742832, -74.00771)  WEST 15 STREET                     \n",
       "1   BROOKLYN  (40.623714, -73.99314)  16 AVENUE                          \n",
       "2        NaN   (40.591755, -73.9083)  BELT PARKWAY                       \n",
       "3     QUEENS   (40.73602, -73.87954)  GRAND AVENUE                       \n",
       "4      BRONX  (40.884727, -73.89945)                               NaN   \n",
       "\n",
       "                                 off_street    cross_street  \n",
       "0                                       NaN       10 AVENUE  \n",
       "1                                       NaN       62 STREET  \n",
       "2                                       NaN             NaN  \n",
       "3                                       NaN  VANLOON STREET  \n",
       "4  208       WEST 238 STREET                            NaN  "
      ]
     },
     "execution_count": 59,
     "metadata": {},
     "output_type": "execute_result"
    }
   ],
   "source": [
    "loc_cols = ['borough', 'location', 'on_street', 'off_street', 'cross_street']\n",
    "location_data = mvc[loc_cols]\n",
    "location_data.head()"
   ]
  },
  {
   "cell_type": "code",
   "execution_count": 60,
   "metadata": {},
   "outputs": [
    {
     "name": "stdout",
     "output_type": "stream",
     "text": [
      "borough         20646\n",
      "location         3885\n",
      "on_street       13961\n",
      "off_street      44093\n",
      "cross_street    29249\n",
      "dtype: int64\n"
     ]
    }
   ],
   "source": [
    "print(location_data.isnull().sum())"
   ]
  },
  {
   "cell_type": "markdown",
   "metadata": {},
   "source": [
    "These columns have a lot of missing values! Keep in mind that all of these five columns represent the same thing — the location of the collision. We can potentially use the non-null values to impute some of the null values.\n",
    "\n",
    "To see where we might be able to do this, let's look for correlations between the missing values:"
   ]
  },
  {
   "cell_type": "code",
   "execution_count": 61,
   "metadata": {},
   "outputs": [
    {
     "data": {
      "image/png": "[encoded data removed]",
      "text/plain": [
       "<Figure size 1440x1008 with 1 Axes>"
      ]
     },
     "metadata": {
      "needs_background": "light"
     },
     "output_type": "display_data"
    }
   ],
   "source": [
    "plot_null_correlations(location_data)"
   ]
  },
  {
   "cell_type": "markdown",
   "metadata": {},
   "source": [
    "None of these columns have strong correlations except for off_street and on_street which have a near perfect negative correlation. That means for almost every row that has a null value in one column, the other has a non-null value and vice-versa."
   ]
  },
  {
   "cell_type": "markdown",
   "metadata": {},
   "source": [
    "The final way we'll look at the null values in these columns is to plot a null matrix, but we'll sort the data first. This will gather some of the null and non-null values together and make patterns more obvious:"
   ]
  },
  {
   "cell_type": "code",
   "execution_count": 272,
   "metadata": {},
   "outputs": [
    {
     "data": {
      "image/png": "[encoded data removed]",
      "text/plain": [
       "<Figure size 1296x1080 with 1 Axes>"
      ]
     },
     "metadata": {
      "needs_background": "light"
     },
     "output_type": "display_data"
    }
   ],
   "source": [
    "sorted_location_data = location_data.sort_values(loc_cols)\n",
    "plot_null_matrix(sorted_location_data)"
   ]
  },
  {
   "cell_type": "markdown",
   "metadata": {},
   "source": [
    "Let's make some observations about the missing values across these columns:\n",
    "\n",
    "1. About two-thirds of rows have non-null values for borough, but of those values that are missing, most have non-null values for location and one or more of the street name columns.\n",
    "2.  than one-tenth of rows have missing values in the location column, but most of these have non-null values in one or more of the street name columns.\n",
    "3. Most rows have a non-null value for either on_street or off_street, and some also have a value for cross_street.\n",
    "4. Combined, this means that we will be able to impute a lot of the missing values by using the other columns in each row. To do this, we can use geolocation APIs that take either an address or location coordinates, and return information about that location.\n",
    "\n"
   ]
  },
  {
   "cell_type": "markdown",
   "metadata": {},
   "source": [
    "We prepared the supplemental data using the [GeoPy](https://geopy.readthedocs.io/en/latest/) package, which makes working with Geocoding APIs like the Google Maps API easier. Here's the strategy we used to prepare the supplemental data:\n",
    "\n",
    "For rows with location values but missing values in either borough or the street name columns, we used geocoding APIs to look up the location coordinates to find the missing data.\n",
    "For rows with values in the street name columns missing borough and/or location data, we used geocoding APIs to look up the address to find the missing data."
   ]
  },
  {
   "cell_type": "code",
   "execution_count": 273,
   "metadata": {},
   "outputs": [
    {
     "data": {
      "text/html": [
       "<div>\n",
       "<style scoped>\n",
       "    .dataframe tbody tr th:only-of-type {\n",
       "        vertical-align: middle;\n",
       "    }\n",
       "\n",
       "    .dataframe tbody tr th {\n",
       "        vertical-align: top;\n",
       "    }\n",
       "\n",
       "    .dataframe thead th {\n",
       "        text-align: right;\n",
       "    }\n",
       "</style>\n",
       "<table border=\"1\" class=\"dataframe\">\n",
       "  <thead>\n",
       "    <tr style=\"text-align: right;\">\n",
       "      <th></th>\n",
       "      <th>unique_key</th>\n",
       "      <th>location</th>\n",
       "      <th>on_street</th>\n",
       "      <th>off_street</th>\n",
       "      <th>borough</th>\n",
       "    </tr>\n",
       "  </thead>\n",
       "  <tbody>\n",
       "    <tr>\n",
       "      <th>0</th>\n",
       "      <td>3869058</td>\n",
       "      <td>NaN</td>\n",
       "      <td>NaN</td>\n",
       "      <td>NaN</td>\n",
       "      <td>NaN</td>\n",
       "    </tr>\n",
       "    <tr>\n",
       "      <th>1</th>\n",
       "      <td>3847947</td>\n",
       "      <td>NaN</td>\n",
       "      <td>NaN</td>\n",
       "      <td>NaN</td>\n",
       "      <td>NaN</td>\n",
       "    </tr>\n",
       "    <tr>\n",
       "      <th>2</th>\n",
       "      <td>3914294</td>\n",
       "      <td>NaN</td>\n",
       "      <td>BELT PARKWAY</td>\n",
       "      <td>NaN</td>\n",
       "      <td>BROOKLYN</td>\n",
       "    </tr>\n",
       "    <tr>\n",
       "      <th>3</th>\n",
       "      <td>3915069</td>\n",
       "      <td>NaN</td>\n",
       "      <td>NaN</td>\n",
       "      <td>NaN</td>\n",
       "      <td>NaN</td>\n",
       "    </tr>\n",
       "    <tr>\n",
       "      <th>4</th>\n",
       "      <td>3923123</td>\n",
       "      <td>NaN</td>\n",
       "      <td>NaN</td>\n",
       "      <td>NaN</td>\n",
       "      <td>NaN</td>\n",
       "    </tr>\n",
       "  </tbody>\n",
       "</table>\n",
       "</div>"
      ],
      "text/plain": [
       "   unique_key location     on_street off_street   borough\n",
       "0     3869058      NaN           NaN        NaN       NaN\n",
       "1     3847947      NaN           NaN        NaN       NaN\n",
       "2     3914294      NaN  BELT PARKWAY        NaN  BROOKLYN\n",
       "3     3915069      NaN           NaN        NaN       NaN\n",
       "4     3923123      NaN           NaN        NaN       NaN"
      ]
     },
     "execution_count": 273,
     "metadata": {},
     "output_type": "execute_result"
    }
   ],
   "source": [
    "sup_data = pd.read_csv('supplemental_data.csv')\n",
    "sup_data.head()"
   ]
  },
  {
   "cell_type": "markdown",
   "metadata": {},
   "source": [
    "The supplemental data has five columns from our original data set — the unique_key that identifies each collision, and four of the five location columns. The cross_street column is not included because the geocoding APIs we used don't include data on the nearest cross street to any single location.\n",
    "\n",
    "Let's take a look at a null matrix for the supplemental data:"
   ]
  },
  {
   "cell_type": "code",
   "execution_count": 274,
   "metadata": {},
   "outputs": [
    {
     "data": {
      "image/png": "[encoded data removed]",
      "text/plain": [
       "<Figure size 1296x1080 with 1 Axes>"
      ]
     },
     "metadata": {
      "needs_background": "light"
     },
     "output_type": "display_data"
    }
   ],
   "source": [
    "plot_null_matrix(sup_data)\n"
   ]
  },
  {
   "cell_type": "markdown",
   "metadata": {},
   "source": [
    "Apart from the unique_key column, we'll notice that there are a lot more missing values than our main data set. This makes sense, as we didn't prepare supplemental data where the original data set had non-null values.\n",
    "\n",
    "If the unique_key column in both the original and supplemental data has the same values in the same order, we'll be able to use Series.mask() to add our supplemental data to our original data. We can check this using the Series.equals() method:"
   ]
  },
  {
   "cell_type": "code",
   "execution_count": 275,
   "metadata": {},
   "outputs": [
    {
     "name": "stdout",
     "output_type": "stream",
     "text": [
      "True\n"
     ]
    }
   ],
   "source": [
    "mvc_keys = mvc['unique_key']\n",
    "sup_keys = sup_data['unique_key']\n",
    "\n",
    "is_equal = mvc_keys.equals(sup_keys)\n",
    "print(is_equal)"
   ]
  },
  {
   "cell_type": "code",
   "execution_count": 276,
   "metadata": {},
   "outputs": [
    {
     "data": {
      "text/plain": [
       "location       3885\n",
       "on_street     13961\n",
       "off_street    44093\n",
       "borough       20646\n",
       "dtype: int64"
      ]
     },
     "execution_count": 276,
     "metadata": {},
     "output_type": "execute_result"
    }
   ],
   "source": [
    "location_cols = ['location', 'on_street', 'off_street', 'borough']\n",
    "null_before = mvc[location_cols].isnull().sum()\n",
    "null_before"
   ]
  },
  {
   "cell_type": "code",
   "execution_count": 277,
   "metadata": {},
   "outputs": [
    {
     "data": {
      "text/plain": [
       "location         77\n",
       "on_street     13734\n",
       "off_street    36131\n",
       "borough         232\n",
       "dtype: int64"
      ]
     },
     "execution_count": 277,
     "metadata": {},
     "output_type": "execute_result"
    }
   ],
   "source": [
    "for col in location_cols:\n",
    "    mvc[col] = mvc[col].mask(mvc[col].isnull(), sup_data[col])\n",
    "\n",
    "null_after = mvc[location_cols].isnull().sum()\n",
    "null_after"
   ]
  }
 ],
 "metadata": {
  "kernelspec": {
   "display_name": "Python 3",
   "language": "python",
   "name": "python3"
  },
  "language_info": {
   "codemirror_mode": {
    "name": "ipython",
    "version": 3
   },
   "file_extension": ".py",
   "mimetype": "text/x-python",
   "name": "python",
   "nbconvert_exporter": "python",
   "pygments_lexer": "ipython3",
   "version": "3.7.3"
  }
 },
 "nbformat": 4,
 "nbformat_minor": 2
}
